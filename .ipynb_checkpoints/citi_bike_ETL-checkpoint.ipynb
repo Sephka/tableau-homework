{
 "cells": [
  {
   "cell_type": "code",
   "execution_count": null,
   "metadata": {},
   "outputs": [],
   "source": [
    "# Import Dependencies\n",
    "import pandas as pd\n",
    "import numpy as np\n",
    "import datetime as dt"
   ]
  },
  {
   "cell_type": "code",
   "execution_count": null,
   "metadata": {},
   "outputs": [],
   "source": [
    "# Load files\n",
    "july2016 = \"201607-citibike-tripdata.csv\"\n",
    "july2017 = \"201707-citibike-tripdata.csv\"\n",
    "july2018 = \"201807-citibike-tripdata.csv\"\n",
    "\n",
    "# Read July 2016, 2017 & 2018 Citi Bike Data Files & Store into Pandas DataFrames\n",
    "july2016_df = pd.read_csv(july2016, encoding=\"ISO-8859-1\")\n",
    "july2017_df = pd.read_csv(july2017, encoding=\"ISO-8859-1\")\n",
    "july2018_df = pd.read_csv(july2018, encoding=\"ISO-8859-1\")"
   ]
  },
  {
   "cell_type": "code",
   "execution_count": null,
   "metadata": {},
   "outputs": [],
   "source": [
    "# Combine All Three July DataFrames from 2016-2018 Into Single DataFrame\n",
    "combined_july_df = july2016_df.append([july2017_df, july2018_df], ignore_index=True)\n",
    "combined_july_df.head()"
   ]
  },
  {
   "cell_type": "code",
   "execution_count": null,
   "metadata": {},
   "outputs": [],
   "source": [
    "# Rename Columns\n",
    "combined_july_df = combined_july_df.rename(columns={\"tripduration\": \"Trip Duration\",\n",
    "                                            \"starttime\": \"Start Time\",\n",
    "                                            \"stoptime\": \"Stop Time\",\n",
    "                                            \"start station id\": \"Start Station ID\",\n",
    "                                            \"start station name\": \"Start Station Name\",\n",
    "                                            \"start station latitude\": \"Start Station Latitude\",\n",
    "                                            \"start station longitude\": \"Start Station Longitude\",\n",
    "                                            \"end station id\": \"End Station ID\",\n",
    "                                            \"end station name\": \"End Station Name\",\n",
    "                                            \"end station latitude\": \"End Station Latitude\",\n",
    "                                            \"end station longitude\": \"End Station Longitude\",\n",
    "                                            \"bikeid\": \"Bike ID\",\n",
    "                                            \"usertype\": \"User Type\",\n",
    "                                            \"birth year\": \"Birth Year\",\n",
    "                                            \"gender\": \"Gender\"\n",
    "                                           })\n",
    "combined_july_df.head()\n"
   ]
  },
  {
   "cell_type": "code",
   "execution_count": null,
   "metadata": {},
   "outputs": [],
   "source": [
    "# Convert All DateTimes to \"%Y-%m-%d %H:%M:%S\" Format\n",
    "combined_july_df[\"Start Time\"] = pd.to_datetime(combined_july_df[\"Start Time\"])\n",
    "combined_july_df[\"Stop Time\"] = pd.to_datetime(combined_july_df[\"Stop Time\"])\n",
    "combined_july_df.head()"
   ]
  },
  {
   "cell_type": "code",
   "execution_count": null,
   "metadata": {},
   "outputs": [],
   "source": [
    "combined_july_df.dtypes"
   ]
  },
  {
   "cell_type": "code",
   "execution_count": null,
   "metadata": {},
   "outputs": [],
   "source": [
    "# Save Combined DataFrames to CSV\n",
    "combined_july_df.to_csv(\"three-year-july-citibike-tripdata.csv\", index=False, header=True)"
   ]
  },
  {
   "cell_type": "code",
   "execution_count": null,
   "metadata": {},
   "outputs": [],
   "source": []
  }
 ],
 "metadata": {
  "kernelspec": {
   "display_name": "Python 3",
   "language": "python",
   "name": "python3"
  },
  "language_info": {
   "codemirror_mode": {
    "name": "ipython",
    "version": 3
   },
   "file_extension": ".py",
   "mimetype": "text/x-python",
   "name": "python",
   "nbconvert_exporter": "python",
   "pygments_lexer": "ipython3",
   "version": "3.6.9"
  }
 },
 "nbformat": 4,
 "nbformat_minor": 2
}
